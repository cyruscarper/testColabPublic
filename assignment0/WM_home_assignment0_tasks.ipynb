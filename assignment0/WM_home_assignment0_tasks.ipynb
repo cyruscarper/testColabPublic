{
  "nbformat": 4,
  "nbformat_minor": 0,
  "metadata": {
    "kernelspec": {
      "display_name": "Python 3.6.6 64-bit ('env': venv)",
      "language": "python",
      "name": "python36664bitenvvenvecc6070b827049199cfd97ef89447300"
    },
    "language_info": {
      "codemirror_mode": {
        "name": "ipython",
        "version": 3
      },
      "file_extension": ".py",
      "mimetype": "text/x-python",
      "name": "python",
      "nbconvert_exporter": "python",
      "pygments_lexer": "ipython3",
      "version": "3.6.6"
    },
    "colab": {
      "name": "WM_home_assignment0_tasks.ipynb",
      "provenance": [],
      "collapsed_sections": [],
      "toc_visible": true,
      "include_colab_link": true
    }
  },
  "cells": [
    {
      "cell_type": "markdown",
      "metadata": {
        "id": "view-in-github",
        "colab_type": "text"
      },
      "source": [
        "<a href=\"https://colab.research.google.com/github/cyruscarper/testColabPublic/blob/master/WM_home_assignment0_tasks.ipynb\" target=\"_parent\"><img src=\"https://colab.research.google.com/assets/colab-badge.svg\" alt=\"Open In Colab\"/></a>"
      ]
    },
    {
      "cell_type": "markdown",
      "metadata": {
        "id": "hJgg78D0mXzr",
        "colab_type": "text"
      },
      "source": [
        "# Webmining - Assignment 0\n",
        "\n",
        "This **Home Assignment** is to be submitted and you will be given points for each of the tasks. It familiarizes you with basics of *statistics* and basics of the *sklearn* package as well as the general setup for home assignments.\n",
        "This first home assignment is shorter and also less difficult than upcoming ones.\n",
        "\n",
        "## Formalities\n",
        "**Submit in a group of 2-3 people until 11.05.2020 23:59CET. The deadline is strict!**\n",
        "\n",
        "## Evaluation and Grading\n",
        "General advice for programming excercises at *CSSH*:\n",
        "Evaluation of your submission is done semi automatically. Think of it as this notebook being \n",
        "executed once. Afterwards, some test functions are appended to this file and executed respectively.\n",
        "\n",
        "Therefore:\n",
        "* Submit valid _Python3_ code only!\n",
        "* Use external libraries only when specified by task.\n",
        "* Ensure your definitions (functions, classes, methods, variables) follow the specification if\n",
        "  given. The concrete signature of e.g. a function usually can be inferred from task description, \n",
        "  code skeletons and test cases.\n",
        "* Ensure the notebook does not rely on current notebook or system state!\n",
        "  * Use `Kernel --> Restart & Run All` to see if you are using any definitions, variables etc. that \n",
        "    are not in scope anymore.\n",
        "  * Double check if your code relies on presence of files or directories other than those mentioned\n",
        "    in given tasks. Tests run under Linux, hence don't use Windows style paths \n",
        "    (`some\\path`, `C:\\another\\path`). Also, use paths only that are relative to and within your\n",
        "    working directory (OK: `some/path`, `./some/path`; NOT OK: `/home/alice/python`, \n",
        "    `../../python`).\n",
        "* Keep your code idempotent! Running it or parts of it multiple times must not yield different\n",
        "  results. Minimize usage of global variables.\n",
        "* Ensure your code / notebook terminates in reasonable time.\n",
        "\n",
        "**There's a story behind each of these points! Don't expect us to fix your stuff!**\n",
        "\n",
        "Regarding the scores, you will get no points for a task if:\n",
        "- your function throws an unexpected error (e.g. takes the wrong number of arguments)\n",
        "- gets stuck in an infinite loop\n",
        "- takes much much longer than expected (e.g. >1s to compute the mean of two numbers)\n",
        "- does not produce the desired output (e.g. returns an descendingly sorted list even though we asked for ascending, returns the mean and the std even though we asked for only the mean, prints and output instead of returning it!)\n",
        "- ...\n",
        "\n",
        "\n",
        "\n",
        "### Isolation\n",
        "Functions that are expected to run in isolation are marked with [Isolation] Warning. For these additionally you are **not** allowed to:\n",
        "- do imports of any kind (also _not_ from the python standard library)\n",
        "- use imported stuff (e.g. import numpy somewhere, now use numpy)\n",
        "- call other functions that you have defined (when you write a variance function you are not allowed to call your previously defined mean function)\n",
        "- use other global variables/names\n",
        "Think of these functions as running in a seperate scripts that is not allowed to use any import statements of any kinf"
      ]
    },
    {
      "cell_type": "markdown",
      "metadata": {
        "id": "X6o07Sk3uUwA",
        "colab_type": "text"
      },
      "source": [
        "# New Section"
      ]
    },
    {
      "cell_type": "code",
      "metadata": {
        "id": "zPotKDYKmXzu",
        "colab_type": "code",
        "colab": {}
      },
      "source": [
        "# credentials of all team members (you may add or remove items from the dictionary)\n",
        "team_members = [\n",
        "    {\n",
        "        'first_name': 'Yat Wai',\n",
        "        'last_name': 'Wong',\n",
        "        'student_id': 391265\n",
        "    },\n",
        "    {\n",
        "        'first_name': 'Valerie',\n",
        "        'last_name': 'Tan',\n",
        "        'student_id': 404845\n",
        "    },\n",
        "    {\n",
        "        'first_name': 'Annemieke',\n",
        "        'last_name': 'Verdenhalven',\n",
        "        'student_id': 413416\n",
        "    }\n",
        "]"
      ],
      "execution_count": 0,
      "outputs": []
    },
    {
      "cell_type": "markdown",
      "metadata": {
        "id": "PEYJJnoamXz6",
        "colab_type": "text"
      },
      "source": [
        "## Task 1\n",
        "To refresh your knowledge on basic statistics we are going to implement mean, mode, median and standard deviation. All these functions should leave the input argument intact.\n",
        "\n",
        "**[Isolation] Warning: We expect that all functions for this task to work in isolation!**\n",
        "\n",
        "\n",
        "### 1a) Mean (0.5 points)\n",
        "Write a function my_mean that takes a list of numeric values and returns the mean. \n",
        "\n",
        "\n",
        "### 1b) Std (0.5 points)\n",
        "Write a function my_std that takes a list of numeric values and returns the standard deviation. Divide by n and not by n-1.\n",
        "\n",
        "\n",
        "### 1c) Mode (1.0 points)\n",
        "Write a function my_mode that takes a list and returns the mode.\n",
        "If there is no unique mode, raise a ValueError.\n",
        "\n",
        "\n",
        "### 1d) Median (0.5 points)\n",
        "Write a function my_median that takes a list of numeric values and returns the median."
      ]
    },
    {
      "cell_type": "code",
      "metadata": {
        "id": "fzBCRBQ3mX0A",
        "colab_type": "code",
        "colab": {}
      },
      "source": [
        "def my_mean(list1):\n",
        "    s = 0\n",
        "    length = len(list1)\n",
        "    for i in range(len(list1)):\n",
        "        s += list1[i]\n",
        "    \n",
        "    mean = s/length\n",
        "    return mean\n"
      ],
      "execution_count": 0,
      "outputs": []
    },
    {
      "cell_type": "code",
      "metadata": {
        "id": "FrHeCbWSmX0K",
        "colab_type": "code",
        "colab": {}
      },
      "source": [
        "def my_std(list1):\n",
        "    s = 0\n",
        "    length = len(list1)\n",
        "    for i in range(len(list1)):\n",
        "        s += list1[i]\n",
        "    \n",
        "    mean = s/length\n",
        "    \n",
        "    sum_of_squared_difference = 0\n",
        "    for j in range(len(list1)):\n",
        "        sum_of_squared_difference += ((list1[j] - mean) * (list1[j] - mean))\n",
        "        \n",
        "    variance = sum_of_squared_difference / length\n",
        "    \n",
        "    std = (variance)**0.5\n",
        "    return std\n",
        "    pass\n"
      ],
      "execution_count": 0,
      "outputs": []
    },
    {
      "cell_type": "code",
      "metadata": {
        "id": "ffnUhnBKmX0S",
        "colab_type": "code",
        "colab": {}
      },
      "source": [
        "def my_mode(list1):\n",
        "    s = 0\n",
        "    list_dict = {}\n",
        "    length = len(list1)\n",
        "    for i in range (len(list1)):\n",
        "        if list1[i] not in list_dict.keys():\n",
        "            list_dict[list1[i]] = 0\n",
        "    \n",
        "    for j in range (len(list1)):\n",
        "        list_dict[list1[j]] += 1\n",
        "        \n",
        "    \n",
        "    frequency_max = max(list_dict.values())\n",
        "    mode_list = []\n",
        "    for k,v in list_dict.items():\n",
        "        if v == frequency_max:\n",
        "            mode_list.append(k)\n",
        "            \n",
        "\n",
        "    if len(mode_list) == 1:\n",
        "      return mode_list[0]\n",
        "    else:\n",
        "      raise ValueError(\"no unique mode\") \n",
        "\n",
        "\n",
        "    "
      ],
      "execution_count": 0,
      "outputs": []
    },
    {
      "cell_type": "code",
      "metadata": {
        "id": "H5yex3PEmX0Y",
        "colab_type": "code",
        "colab": {}
      },
      "source": [
        "def my_median(list1):\n",
        "    length = len(list1)\n",
        "    \n",
        "    median = 0\n",
        "    if length % 2 == 0: \n",
        "        median1 = list1[length//2] \n",
        "        median2 = list1[(length//2) - 1] \n",
        "        median = (median1 + median2)/2\n",
        "    else: \n",
        "        median = list1[length//2]\n",
        "    \n",
        "    return median\n"
      ],
      "execution_count": 0,
      "outputs": []
    },
    {
      "cell_type": "markdown",
      "metadata": {
        "id": "_RyYs3Y2mX0f",
        "colab_type": "text"
      },
      "source": [
        "## Task 2:\n",
        "In this task we are will explore basic classifiers and the sklearn package.\n",
        "### 2a) Preprocessing (1 point)\n",
        "Write a function ```preprocess```. It takes no input.\n",
        "\n",
        "It does:\n",
        "\n",
        "- read the credit_g dataset assume into a pandas dataframe. The file is located in the same folder as the notebook and called ```credit-g.csv```\n",
        "- compute the boolean target vector (True if 'class' is 'good')\n",
        "- remove the target column from the dataframe\n",
        "- convert the categorical variables to numeric ones using pd.get_dummies\n",
        "- perform a (80/20) train/test split using sklearn.model_selection.train_test_split with a seed 123456\n",
        "- returns the results of the train test split in order\n",
        "\n",
        "\n",
        "### 2b) Train linear SVM classifier (0.5 points)\n",
        "Write a function ```train_LinearSVM_classifier``` that trains a Linear Support Vector classifier.\n",
        "\n",
        "It takes two arguments, the first one is the train dataset, the second the target array. It returns the trained classifier.\n",
        "Use the Linear support vector classifier from sklearn with seed of 123456.\n",
        "\n",
        "\n",
        "### 2c) Train logistic regression classifier (0.5 points)\n",
        "Write a function ```train_LogisticRegression_classifier``` that trains a logistic regression classifier.\n",
        "\n",
        "It takes two arguments, the first one is the train dataset, the second the target array. It returns the trained classifier.\n",
        "Use the logistic regression classifier from sklearn with seed of 123456.\n",
        "\n",
        "### 2d) Evaluate the results  (1 point)\n",
        "Write a function ```get_scores``` that computes the precision, recall, accuracy and F1 scores.\n",
        "It takes three arguments. The first one is a trained classifier, the second one is the test dataset to evaluate the classifier on, the third is the ground truth target vector.\n",
        "The function returns a dictionary like this:\n",
        "\n",
        "```\n",
        "{'accuracy' : accuracy,\n",
        " 'recall' : recall,\n",
        " 'precision' : precision,\n",
        " 'F1' : F1}\n",
        " ```\n",
        " \n",
        "**[Isolation] Warning! We expect this function (2d) to work in isolation**\n",
        "\n",
        "\n",
        "\n",
        "### 2 e) Bringing it all together  (0.25 points each)\n",
        "Write two functions: ```run_SVM``` and ```run_Log``` that use the above functions to train and evaluate a SVM classifier and Logistic regression classifier respectively.\n",
        "It therefor\n",
        "\n",
        "1. loads the dataset & performs a train test split\n",
        "2. trains the respectiv classifier\n",
        "3. returns the scores dictionary\n",
        "\n",
        "Thereby use the functions ```preprocess```, ```train_LinearSVM_classifier```, ```train_LogisticRegression_classifier```, ```get_scores``` you defined above."
      ]
    },
    {
      "cell_type": "code",
      "metadata": {
        "id": "U3WdT3CYmX0g",
        "colab_type": "code",
        "colab": {}
      },
      "source": [
        "import pandas as pd\n",
        "from sklearn.model_selection import train_test_split\n",
        "\n",
        "pd.set_option('display.max_columns', 999)\n",
        "\n",
        "def preprocess():\n",
        "    df = pd.read_csv(\"credit-g.csv\")\n",
        "    boolean = False\n",
        "    df[\"Target\"] = boolean\n",
        "    \n",
        "    df.loc[df[\"class\"] == 'good', 'Target'] = True\n",
        "    del df[\"class\"] \n",
        "    dummy = pd.get_dummies(df)\n",
        "    target = dummy[\"Target\"]\n",
        "    del dummy[\"Target\"]\n",
        "\n",
        "    X_train, X_test, y_train, y_test = train_test_split(dummy, target, test_size=0.2 ,random_state=123456)\n",
        "    return X_train, y_train, X_test, y_test\n",
        "    \n",
        "    "
      ],
      "execution_count": 0,
      "outputs": []
    },
    {
      "cell_type": "code",
      "metadata": {
        "id": "SNNbMZ9PmX0m",
        "colab_type": "code",
        "colab": {}
      },
      "source": [
        "from sklearn.svm import LinearSVC\n",
        "\n",
        "def train_LinearSVM_classifier(features, target):\n",
        "    SVC_clf = LinearSVC(random_state=123456, fit_intercept = True)\n",
        "    SVC_clf.fit(features, target)\n",
        "    return SVC_clf\n",
        "    \n"
      ],
      "execution_count": 0,
      "outputs": []
    },
    {
      "cell_type": "code",
      "metadata": {
        "id": "ZNbOkY4wmX0z",
        "colab_type": "code",
        "colab": {}
      },
      "source": [
        "from sklearn.linear_model import LogisticRegression\n",
        "\n",
        "def train_LogisticRegression_classifier(features, target):\n",
        "    LR_clf = LogisticRegression(random_state=123456)\n",
        "    LR_clf.fit(features, target)\n",
        "    return LR_clf\n",
        "    "
      ],
      "execution_count": 0,
      "outputs": []
    },
    {
      "cell_type": "code",
      "metadata": {
        "id": "N_bvXJyVOicg",
        "colab_type": "code",
        "colab": {}
      },
      "source": [
        "def get_scores(model, X_test, y_test):\n",
        "    y_pred = model.predict(X_test)\n",
        "\n",
        "    True_Positive = 0\n",
        "    False_Positive = 0\n",
        "    True_Negative = 0\n",
        "    False_Negative = 0\n",
        "\n",
        "    len_y_test = len(y_test)\n",
        "\n",
        "    for i in range (len(y_test)):\n",
        "      if y_test.iat[i] == True:\n",
        "        if y_pred[i] == y_test.iat[i]:\n",
        "          True_Positive  = True_Positive + 1\n",
        "        elif y_pred[i] != y_test.iat[i]:\n",
        "          False_Positive = False_Positive + 1\n",
        "\n",
        "      if y_test.iat[i] == False:\n",
        "        if y_pred[i] == y_test.iat[i]:\n",
        "          True_Negative  = True_Negative + 1\n",
        "        elif y_pred[i] != y_test.iat[i]:\n",
        "          False_Positive = False_Positive + 1\n",
        "\n",
        "\n",
        "    accuracy = (True_Positive + True_Negative) / len_y_test\n",
        "    recall = True_Positive / (True_Positive + False_Negative)\n",
        "    precision = True_Positive / (True_Positive + False_Positive)\n",
        "    F1 = (2 * precision * recall) / (precision + recall)\n",
        "\n",
        "    scores_dict = {\n",
        "    \"'accuracy'\": accuracy,\n",
        "    \"'recall'\": recall,\n",
        "    \"'precision'\": precision,\n",
        "    \"'F1'\": F1\n",
        "    }\n",
        "    return scores_dict\n",
        "\n",
        "    \n",
        "  "
      ],
      "execution_count": 0,
      "outputs": []
    },
    {
      "cell_type": "code",
      "metadata": {
        "id": "yhR29ea6mX05",
        "colab_type": "code",
        "colab": {}
      },
      "source": [
        "def run_Log():\n",
        "    X_train, y_train, X_test, y_test = preprocess()\n",
        "    LR_clf = train_LogisticRegression_classifier(X_train, y_train)\n",
        "    Log_dict = get_scores(LR_clf , X_test , y_test)\n",
        "\n",
        "    return Log_dict\n",
        "    \n",
        "\n",
        "def run_SVM():\n",
        "    X_train, y_train, X_test, y_test = preprocess()\n",
        "    SVM_clf = train_LinearSVM_classifier(X_train, y_train)\n",
        "    SVM_dict = get_scores(SVM_clf , X_test , y_test)\n",
        "    return SVM_dict\n",
        "    \n"
      ],
      "execution_count": 0,
      "outputs": []
    }
  ]
}